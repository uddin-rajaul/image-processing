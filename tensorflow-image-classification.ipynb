{
 "cells": [
  {
   "cell_type": "markdown",
   "id": "aadd1a0a",
   "metadata": {},
   "source": [
    "# TODO\n",
    "- Load a prebuilt dataset.\n",
    "- Build a neural network machine learning model that classifies images.\n",
    "- Train this neural network.\n",
    "- Evaluate the accuracy of the model.\n",
    "\n",
    "## Key Points:\n",
    "- `Conv2D` layers extract spatial features.\n",
    "- `MaxPooling2D` reduces the spatial dimensions to focus on the most important features.\n",
    "- `Flatten` converts 2D feature maps into 1D for fully connected layers.\n",
    "- `Dense` layers combine features and make predictions.\n",
    "- `Dropout` helps prevent overfitting.\n",
    "- `BatchNormalization` stabilizes training."
   ]
  },
  {
   "cell_type": "code",
   "execution_count": 2,
   "id": "aee4d2bd",
   "metadata": {},
   "outputs": [],
   "source": [
    "import tensorflow as tf"
   ]
  },
  {
   "cell_type": "code",
   "execution_count": 3,
   "id": "5265eca5",
   "metadata": {},
   "outputs": [
    {
     "name": "stdout",
     "output_type": "stream",
     "text": [
      "Tensorflow version:  2.17.0\n"
     ]
    }
   ],
   "source": [
    "print(\"Tensorflow version: \",tf.__version__)"
   ]
  },
  {
   "cell_type": "markdown",
   "id": "dddf0858",
   "metadata": {},
   "source": [
    "## Load a dataset"
   ]
  },
  {
   "cell_type": "markdown",
   "id": "d313691b",
   "metadata": {},
   "source": [
    "The pixel values of the images range from 0 through 255. Scale these values to a range of 0 to 1 by dividing the values by 255.0. This also converts the sample data from integers to floating-point numbers:\n"
   ]
  },
  {
   "cell_type": "code",
   "execution_count": 5,
   "id": "02c8c16f",
   "metadata": {},
   "outputs": [
    {
     "name": "stdout",
     "output_type": "stream",
     "text": [
      "Downloading data from https://storage.googleapis.com/tensorflow/tf-keras-datasets/mnist.npz\n",
      "\u001b[1m11490434/11490434\u001b[0m \u001b[32m━━━━━━━━━━━━━━━━━━━━\u001b[0m\u001b[37m\u001b[0m \u001b[1m2s\u001b[0m 0us/step\n"
     ]
    }
   ],
   "source": [
    "mnist = tf.keras.datasets.mnist\n",
    "\n",
    "(x_train, y_train), (x_test, y_test) = mnist.load_data()\n",
    "x_train, x_test = x_train / 255.0, x_test / 255.0"
   ]
  },
  {
   "cell_type": "markdown",
   "id": "f338c342",
   "metadata": {},
   "source": [
    "## Build a machine learning model\n",
    "- Sequential API: Suitable for simple, linear stacks of layers.\n",
    "- Functional API: More flexible, allowing for complex architectures like multi-input/output models, residual connections, etc.\n",
    "\n",
    "Sequential is useful for stacking layers where each layer has one input tensor and one output tensor. Layers are functions with a known mathematical structure that can be reused and have trainable variables. Most TensorFlow models are composed of layers. This model uses the `Flatten`, `Dense`, and `Dropout` layers."
   ]
  },
  {
   "cell_type": "code",
   "execution_count": 8,
   "id": "7d1bec81",
   "metadata": {},
   "outputs": [],
   "source": [
    "model = tf.keras.models.Sequential([\n",
    "    tf.keras.layers.Flatten(input_shape=(28,28)),\n",
    "    tf.keras.layers.Dense(128, activation='relu'),\n",
    "    tf.keras.layers.Dropout(0.2),\n",
    "    tf.keras.layers.Dense(18)\n",
    "    ])"
   ]
  },
  {
   "cell_type": "code",
   "execution_count": 9,
   "id": "85999f36",
   "metadata": {},
   "outputs": [],
   "source": [
    "predictions = model(x_train[:1]).numpy()"
   ]
  },
  {
   "cell_type": "code",
   "execution_count": 10,
   "id": "20fd7946",
   "metadata": {},
   "outputs": [
    {
     "data": {
      "text/plain": [
       "array([[-0.06544951,  0.01938036, -0.9274679 ,  0.24186485, -0.06771566,\n",
       "        -0.10151345, -0.13855836, -0.4946216 , -0.4691984 , -0.32899454,\n",
       "         0.48661968,  0.6311363 , -0.3962165 , -0.15115657,  0.24754627,\n",
       "         0.81437457, -0.5447697 ,  0.38291305]], dtype=float32)"
      ]
     },
     "execution_count": 10,
     "metadata": {},
     "output_type": "execute_result"
    }
   ],
   "source": [
    "predictions"
   ]
  },
  {
   "cell_type": "markdown",
   "id": "f4058b18",
   "metadata": {},
   "source": [
    "### The `tf.nn.softmax` function converts these logits to probabilities for each class:"
   ]
  },
  {
   "cell_type": "code",
   "execution_count": 12,
   "id": "644a0c26",
   "metadata": {},
   "outputs": [
    {
     "data": {
      "text/plain": [
       "array([[0.0495233 , 0.05390768, 0.02091413, 0.06734022, 0.0494112 ,\n",
       "        0.04776912, 0.04603189, 0.03224204, 0.03307224, 0.0380499 ,\n",
       "        0.0860142 , 0.09938776, 0.03557618, 0.04545561, 0.06772389,\n",
       "        0.11937471, 0.03066504, 0.07754093]], dtype=float32)"
      ]
     },
     "execution_count": 12,
     "metadata": {},
     "output_type": "execute_result"
    }
   ],
   "source": [
    "tf.nn.softmax(predictions).numpy()"
   ]
  },
  {
   "cell_type": "markdown",
   "id": "936146fb",
   "metadata": {},
   "source": [
    "### Define a loss function for training using losses.SparseCategoricalCrossentropy:\n",
    "- Loss: categorical_crossentropy for multi-class classification\n",
    "- sparse_categorical_crossentropy if labels are integers."
   ]
  },
  {
   "cell_type": "code",
   "execution_count": 16,
   "id": "927af5cf",
   "metadata": {},
   "outputs": [],
   "source": [
    "loss_fn = tf.keras.losses.SparseCategoricalCrossentropy(from_logits=True)"
   ]
  },
  {
   "cell_type": "code",
   "execution_count": 17,
   "id": "97e8e57d",
   "metadata": {},
   "outputs": [
    {
     "data": {
      "text/plain": [
       "3.041376"
      ]
     },
     "execution_count": 17,
     "metadata": {},
     "output_type": "execute_result"
    }
   ],
   "source": [
    "loss_fn(y_train[:1], predictions).numpy()"
   ]
  },
  {
   "cell_type": "markdown",
   "id": "a189462c",
   "metadata": {},
   "source": [
    "The loss is zero if the model is sure of the correct class."
   ]
  },
  {
   "cell_type": "markdown",
   "id": "d90236f9",
   "metadata": {},
   "source": [
    "### Before you start training:\n",
    "- configure model using keras `model.compile`\n",
    "- set the optimizer class to `adam` - Optimizer: Adam, SGD, RMSprop (Adam is commonly used).\n",
    "- set the loss to loss_fn\n",
    "- specify a metric to be evaluated for the model by setting the `metrics=['accuracy']`"
   ]
  },
  {
   "cell_type": "code",
   "execution_count": 19,
   "id": "05c27255",
   "metadata": {},
   "outputs": [],
   "source": [
    "model.compile(optimizer='adam',\n",
    "             loss=loss_fn,\n",
    "              metrics=['accuracy']\n",
    "             )"
   ]
  },
  {
   "cell_type": "markdown",
   "id": "81f3f329",
   "metadata": {},
   "source": [
    "## Train and evaluate your model\n",
    " - `Model.fit` method to adjust your model parameters and minimize the loss:\n",
    " - Using model.fit() to train the model.\n",
    "- Specifying batch_size, epochs, and using validation data.\n",
    "- Callbacks like EarlyStopping and ModelCheckpoint to prevent overfitting and save the best model.\n",
    "### Evaluation: Using model.evaluate() to assess the model’s performance on test data."
   ]
  },
  {
   "cell_type": "code",
   "execution_count": 20,
   "id": "194bf552",
   "metadata": {},
   "outputs": [
    {
     "name": "stdout",
     "output_type": "stream",
     "text": [
      "Epoch 1/5\n",
      "\u001b[1m1875/1875\u001b[0m \u001b[32m━━━━━━━━━━━━━━━━━━━━\u001b[0m\u001b[37m\u001b[0m \u001b[1m6s\u001b[0m 3ms/step - accuracy: 0.8506 - loss: 0.5270\n",
      "Epoch 2/5\n",
      "\u001b[1m1875/1875\u001b[0m \u001b[32m━━━━━━━━━━━━━━━━━━━━\u001b[0m\u001b[37m\u001b[0m \u001b[1m5s\u001b[0m 3ms/step - accuracy: 0.9535 - loss: 0.1572\n",
      "Epoch 3/5\n",
      "\u001b[1m1875/1875\u001b[0m \u001b[32m━━━━━━━━━━━━━━━━━━━━\u001b[0m\u001b[37m\u001b[0m \u001b[1m5s\u001b[0m 3ms/step - accuracy: 0.9667 - loss: 0.1098\n",
      "Epoch 4/5\n",
      "\u001b[1m1875/1875\u001b[0m \u001b[32m━━━━━━━━━━━━━━━━━━━━\u001b[0m\u001b[37m\u001b[0m \u001b[1m5s\u001b[0m 3ms/step - accuracy: 0.9720 - loss: 0.0892\n",
      "Epoch 5/5\n",
      "\u001b[1m1875/1875\u001b[0m \u001b[32m━━━━━━━━━━━━━━━━━━━━\u001b[0m\u001b[37m\u001b[0m \u001b[1m5s\u001b[0m 3ms/step - accuracy: 0.9772 - loss: 0.0737\n"
     ]
    },
    {
     "data": {
      "text/plain": [
       "<keras.src.callbacks.history.History at 0x242bdf1ab80>"
      ]
     },
     "execution_count": 20,
     "metadata": {},
     "output_type": "execute_result"
    }
   ],
   "source": [
    "model.fit(x_train, y_train, epochs=5)"
   ]
  },
  {
   "cell_type": "markdown",
   "id": "3cc2cc5f",
   "metadata": {},
   "source": [
    "<b> The Model.evaluate method checks the model's performance, usually on a validation set or test set.</b>"
   ]
  },
  {
   "cell_type": "code",
   "execution_count": 21,
   "id": "3a6b8835",
   "metadata": {},
   "outputs": [
    {
     "name": "stdout",
     "output_type": "stream",
     "text": [
      "313/313 - 1s - 2ms/step - accuracy: 0.9796 - loss: 0.0703\n"
     ]
    },
    {
     "data": {
      "text/plain": [
       "[0.07026389986276627, 0.9796000123023987]"
      ]
     },
     "execution_count": 21,
     "metadata": {},
     "output_type": "execute_result"
    }
   ],
   "source": [
    "model.evaluate(x_test,  y_test, verbose=2)"
   ]
  },
  {
   "cell_type": "markdown",
   "id": "3882b66d",
   "metadata": {},
   "source": [
    "<b>The image classifier is now trained to ~98% accuracy on this dataset.</b>"
   ]
  },
  {
   "cell_type": "markdown",
   "id": "c5c8f324",
   "metadata": {},
   "source": [
    "<b>If you want your model to return a probability, you can wrap the trained model, and attach the softmax to it:</b>"
   ]
  },
  {
   "cell_type": "code",
   "execution_count": 22,
   "id": "6c6dd04f",
   "metadata": {},
   "outputs": [],
   "source": [
    "probability_model = tf.keras.Sequential([\n",
    "    model,\n",
    "    tf.keras.layers.Softmax()\n",
    "])"
   ]
  },
  {
   "cell_type": "code",
   "execution_count": 23,
   "id": "e06011a9",
   "metadata": {},
   "outputs": [
    {
     "data": {
      "text/plain": [
       "<tf.Tensor: shape=(5, 18), dtype=float32, numpy=\n",
       "array([[4.00776790e-09, 5.18754550e-09, 1.68514219e-07, 3.95309500e-04,\n",
       "        3.46160839e-12, 3.32354546e-07, 1.93528502e-13, 9.99601543e-01,\n",
       "        7.24052654e-07, 1.94429003e-06, 1.01841348e-11, 1.50917074e-11,\n",
       "        1.97901981e-12, 2.27695163e-12, 4.34487776e-12, 5.58653956e-11,\n",
       "        2.55098061e-11, 1.26900825e-11],\n",
       "       [2.91046547e-08, 2.91839547e-06, 9.99982476e-01, 1.33538269e-05,\n",
       "        2.42419427e-16, 4.05295131e-09, 5.57187940e-09, 1.09472429e-13,\n",
       "        1.15936484e-06, 3.96687078e-14, 8.82293023e-16, 4.05650613e-18,\n",
       "        9.66475842e-18, 1.74350483e-17, 1.19634644e-17, 3.78659896e-15,\n",
       "        1.56838076e-16, 4.35369403e-16],\n",
       "       [2.54886663e-06, 9.99261081e-01, 1.59540810e-04, 4.65186122e-06,\n",
       "        2.24279611e-05, 4.73507771e-06, 8.47010506e-06, 4.54083289e-04,\n",
       "        8.14542436e-05, 7.31780858e-07, 1.31829738e-08, 3.89068830e-08,\n",
       "        1.45355550e-08, 2.40583695e-08, 2.24958541e-08, 1.32071856e-08,\n",
       "        3.28392034e-08, 7.58988250e-08],\n",
       "       [9.99591291e-01, 2.09547935e-10, 2.88176329e-06, 4.47667077e-08,\n",
       "        6.75281129e-08, 1.36156586e-05, 3.45688692e-04, 4.05910178e-05,\n",
       "        5.16669871e-08, 5.79193329e-06, 9.56259160e-13, 8.31821157e-12,\n",
       "        6.29095639e-14, 9.93182533e-13, 8.95836140e-13, 1.36490689e-11,\n",
       "        4.11083667e-12, 4.31831952e-13],\n",
       "       [2.18841819e-06, 1.95882977e-09, 4.70291798e-06, 1.37886174e-08,\n",
       "        9.87351000e-01, 1.18818907e-05, 1.09687073e-06, 7.89825062e-05,\n",
       "        5.26242616e-07, 1.25496462e-02, 2.84097190e-10, 2.14724172e-09,\n",
       "        1.88926375e-10, 7.17239990e-10, 6.76610212e-10, 5.38380840e-10,\n",
       "        1.97493771e-10, 4.59449617e-10]], dtype=float32)>"
      ]
     },
     "execution_count": 23,
     "metadata": {},
     "output_type": "execute_result"
    }
   ],
   "source": [
    "probability_model(x_test[:5])"
   ]
  },
  {
   "cell_type": "code",
   "execution_count": null,
   "id": "1c0c9631",
   "metadata": {},
   "outputs": [],
   "source": []
  }
 ],
 "metadata": {
  "kernelspec": {
   "display_name": "Python 3 (ipykernel)",
   "language": "python",
   "name": "python3"
  },
  "language_info": {
   "codemirror_mode": {
    "name": "ipython",
    "version": 3
   },
   "file_extension": ".py",
   "mimetype": "text/x-python",
   "name": "python",
   "nbconvert_exporter": "python",
   "pygments_lexer": "ipython3",
   "version": "3.9.13"
  }
 },
 "nbformat": 4,
 "nbformat_minor": 5
}
